{
 "cells": [
  {
   "cell_type": "code",
   "execution_count": 1,
   "metadata": {},
   "outputs": [],
   "source": [
    "from pyspark.sql import SparkSession"
   ]
  },
  {
   "cell_type": "code",
   "execution_count": 2,
   "metadata": {},
   "outputs": [
    {
     "name": "stdout",
     "output_type": "stream",
     "text": [
      ":: loading settings :: url = jar:file:/usr/local/lib/python3.8/dist-packages/pyspark/jars/ivy-2.5.0.jar!/org/apache/ivy/core/settings/ivysettings.xml\n"
     ]
    },
    {
     "name": "stderr",
     "output_type": "stream",
     "text": [
      "Ivy Default Cache set to: /root/.ivy2/cache\n",
      "The jars for the packages stored in: /root/.ivy2/jars\n",
      "mysql#mysql-connector-java added as a dependency\n",
      ":: resolving dependencies :: org.apache.spark#spark-submit-parent-fc00857d-9000-45e9-8705-3965a0b51a7f;1.0\n",
      "\tconfs: [default]\n",
      "\tfound mysql#mysql-connector-java;8.0.11 in central\n",
      "\tfound com.google.protobuf#protobuf-java;2.6.0 in central\n",
      "downloading https://repo1.maven.org/maven2/mysql/mysql-connector-java/8.0.11/mysql-connector-java-8.0.11.jar ...\n",
      "\t[SUCCESSFUL ] mysql#mysql-connector-java;8.0.11!mysql-connector-java.jar (2211ms)\n",
      "downloading https://repo1.maven.org/maven2/com/google/protobuf/protobuf-java/2.6.0/protobuf-java-2.6.0.jar ...\n",
      "\t[SUCCESSFUL ] com.google.protobuf#protobuf-java;2.6.0!protobuf-java.jar(bundle) (777ms)\n",
      ":: resolution report :: resolve 10696ms :: artifacts dl 2996ms\n",
      "\t:: modules in use:\n",
      "\tcom.google.protobuf#protobuf-java;2.6.0 from central in [default]\n",
      "\tmysql#mysql-connector-java;8.0.11 from central in [default]\n",
      "\t---------------------------------------------------------------------\n",
      "\t|                  |            modules            ||   artifacts   |\n",
      "\t|       conf       | number| search|dwnlded|evicted|| number|dwnlded|\n",
      "\t---------------------------------------------------------------------\n",
      "\t|      default     |   2   |   2   |   2   |   0   ||   2   |   2   |\n",
      "\t---------------------------------------------------------------------\n",
      ":: retrieving :: org.apache.spark#spark-submit-parent-fc00857d-9000-45e9-8705-3965a0b51a7f\n",
      "\tconfs: [default]\n",
      "\t2 artifacts copied, 0 already retrieved (2571kB/36ms)\n",
      "24/04/09 14:04:25 WARN NativeCodeLoader: Unable to load native-hadoop library for your platform... using builtin-java classes where applicable\n",
      "Using Spark's default log4j profile: org/apache/spark/log4j-defaults.properties\n",
      "Setting default log level to \"WARN\".\n",
      "To adjust logging level use sc.setLogLevel(newLevel). For SparkR, use setLogLevel(newLevel).\n"
     ]
    }
   ],
   "source": [
    "spark_session = (SparkSession.builder.master(\"local[*]\")\n",
    ".config(\"spark.jars.packages\",\"mysql:mysql-connector-java:8.0.11\") \n",
    ".appName(\"MYSQL-QUERY\")\n",
    ".getOrCreate())"
   ]
  },
  {
   "cell_type": "code",
   "execution_count": 3,
   "metadata": {},
   "outputs": [
    {
     "data": {
      "text/html": [
       "\n",
       "            <div>\n",
       "                <p><b>SparkSession - in-memory</b></p>\n",
       "                \n",
       "        <div>\n",
       "            <p><b>SparkContext</b></p>\n",
       "\n",
       "            <p><a href=\"http://0e418e8f8dbf:4040\">Spark UI</a></p>\n",
       "\n",
       "            <dl>\n",
       "              <dt>Version</dt>\n",
       "                <dd><code>v3.2.1</code></dd>\n",
       "              <dt>Master</dt>\n",
       "                <dd><code>local[*]</code></dd>\n",
       "              <dt>AppName</dt>\n",
       "                <dd><code>MYSQL-QUERY</code></dd>\n",
       "            </dl>\n",
       "        </div>\n",
       "        \n",
       "            </div>\n",
       "        "
      ],
      "text/plain": [
       "<pyspark.sql.session.SparkSession at 0x7fb5b8b7f160>"
      ]
     },
     "execution_count": 3,
     "metadata": {},
     "output_type": "execute_result"
    }
   ],
   "source": [
    "spark_session"
   ]
  },
  {
   "cell_type": "code",
   "execution_count": 4,
   "metadata": {},
   "outputs": [],
   "source": [
    "MYSQL_URI=\"jdbc:mysql://mysql:3306/classicmodels?useSSL=false\"\n",
    "MYSQL_USER_NAME=\"root\"\n",
    "MYSQL_PASSWORD=\"example\""
   ]
  },
  {
   "cell_type": "code",
   "execution_count": 5,
   "metadata": {},
   "outputs": [],
   "source": [
    "query = \"SELECT * FROM customers limit 10\""
   ]
  },
  {
   "cell_type": "code",
   "execution_count": 7,
   "metadata": {},
   "outputs": [],
   "source": [
    "df = spark_session.read.format(\"jdbc\").options(\n",
    "            url=MYSQL_URI,\n",
    "            driver='com.mysql.cj.jdbc.Driver',\n",
    "            query=query,\n",
    "            user=MYSQL_USER_NAME,\n",
    "            password=MYSQL_PASSWORD).load()"
   ]
  },
  {
   "cell_type": "code",
   "execution_count": 8,
   "metadata": {},
   "outputs": [
    {
     "name": "stdout",
     "output_type": "stream",
     "text": [
      "root\n",
      " |-- customerNumber: integer (nullable = true)\n",
      " |-- customerName: string (nullable = true)\n",
      " |-- contactLastName: string (nullable = true)\n",
      " |-- contactFirstName: string (nullable = true)\n",
      " |-- phone: string (nullable = true)\n",
      " |-- addressLine1: string (nullable = true)\n",
      " |-- addressLine2: string (nullable = true)\n",
      " |-- city: string (nullable = true)\n",
      " |-- state: string (nullable = true)\n",
      " |-- postalCode: string (nullable = true)\n",
      " |-- country: string (nullable = true)\n",
      " |-- salesRepEmployeeNumber: integer (nullable = true)\n",
      " |-- creditLimit: decimal(10,2) (nullable = true)\n",
      "\n"
     ]
    }
   ],
   "source": [
    "df.printSchema()"
   ]
  },
  {
   "cell_type": "code",
   "execution_count": 10,
   "metadata": {},
   "outputs": [
    {
     "data": {
      "text/plain": [
       "['customerNumber',\n",
       " 'customerName',\n",
       " 'contactLastName',\n",
       " 'contactFirstName',\n",
       " 'phone',\n",
       " 'addressLine1',\n",
       " 'addressLine2',\n",
       " 'city',\n",
       " 'state',\n",
       " 'postalCode',\n",
       " 'country',\n",
       " 'salesRepEmployeeNumber',\n",
       " 'creditLimit']"
      ]
     },
     "execution_count": 10,
     "metadata": {},
     "output_type": "execute_result"
    }
   ],
   "source": [
    "df.columns"
   ]
  },
  {
   "cell_type": "code",
   "execution_count": 9,
   "metadata": {},
   "outputs": [
    {
     "name": "stderr",
     "output_type": "stream",
     "text": [
      "                                                                                \r"
     ]
    },
    {
     "name": "stdout",
     "output_type": "stream",
     "text": [
      "+--------------+--------------------+---------------+----------------+------------+--------------------+------------+---------+--------+----------+---------+----------------------+-----------+\n",
      "|customerNumber|        customerName|contactLastName|contactFirstName|       phone|        addressLine1|addressLine2|     city|   state|postalCode|  country|salesRepEmployeeNumber|creditLimit|\n",
      "+--------------+--------------------+---------------+----------------+------------+--------------------+------------+---------+--------+----------+---------+----------------------+-----------+\n",
      "|           103|   Atelier graphique|        Schmitt|         Carine |  40.32.2555|      54, rue Royale|        null|   Nantes|    null|     44000|   France|                  1370|   21000.00|\n",
      "|           112|  Signal Gift Stores|           King|            Jean|  7025551838|     8489 Strong St.|        null|Las Vegas|      NV|     83030|      USA|                  1166|   71800.00|\n",
      "|           114|Australian Collec...|       Ferguson|           Peter|03 9520 4555|   636 St Kilda Road|     Level 3|Melbourne|Victoria|      3004|Australia|                  1611|  117300.00|\n",
      "|           119|   La Rochelle Gifts|        Labrune|         Janine |  40.67.8555|67, rue des Cinqu...|        null|   Nantes|    null|     44000|   France|                  1370|  118200.00|\n",
      "+--------------+--------------------+---------------+----------------+------------+--------------------+------------+---------+--------+----------+---------+----------------------+-----------+\n",
      "only showing top 4 rows\n",
      "\n"
     ]
    }
   ],
   "source": [
    "df.show(4)"
   ]
  },
  {
   "cell_type": "code",
   "execution_count": 11,
   "metadata": {},
   "outputs": [
    {
     "name": "stdout",
     "output_type": "stream",
     "text": [
      "+--------------+--------------------+---------------+----------------+------------+--------------------+\n",
      "|customerNumber|        customerName|contactLastName|contactFirstName|       phone|        addressLine1|\n",
      "+--------------+--------------------+---------------+----------------+------------+--------------------+\n",
      "|           103|   Atelier graphique|        Schmitt|         Carine |  40.32.2555|      54, rue Royale|\n",
      "|           112|  Signal Gift Stores|           King|            Jean|  7025551838|     8489 Strong St.|\n",
      "|           114|Australian Collec...|       Ferguson|           Peter|03 9520 4555|   636 St Kilda Road|\n",
      "|           119|   La Rochelle Gifts|        Labrune|         Janine |  40.67.8555|67, rue des Cinqu...|\n",
      "|           121|  Baane Mini Imports|     Bergulfsen|          Jonas |  07-98 9555|Erling Skakkes ga...|\n",
      "+--------------+--------------------+---------------+----------------+------------+--------------------+\n",
      "only showing top 5 rows\n",
      "\n"
     ]
    }
   ],
   "source": [
    "df.select(['customerNumber',\n",
    " 'customerName',\n",
    " 'contactLastName',\n",
    " 'contactFirstName',\n",
    " 'phone',\n",
    " 'addressLine1']).show(5)"
   ]
  },
  {
   "cell_type": "code",
   "execution_count": 14,
   "metadata": {},
   "outputs": [],
   "source": [
    "# spark_session.stop()"
   ]
  },
  {
   "cell_type": "code",
   "execution_count": null,
   "metadata": {},
   "outputs": [],
   "source": []
  }
 ],
 "metadata": {
  "kernelspec": {
   "display_name": "Python 3",
   "language": "python",
   "name": "python3"
  },
  "language_info": {
   "codemirror_mode": {
    "name": "ipython",
    "version": 3
   },
   "file_extension": ".py",
   "mimetype": "text/x-python",
   "name": "python",
   "nbconvert_exporter": "python",
   "pygments_lexer": "ipython3",
   "version": "3.8.10"
  }
 },
 "nbformat": 4,
 "nbformat_minor": 2
}
